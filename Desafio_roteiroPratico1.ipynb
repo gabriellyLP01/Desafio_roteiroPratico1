{
  "nbformat": 4,
  "nbformat_minor": 0,
  "metadata": {
    "colab": {
      "provenance": [],
      "mount_file_id": "1vHpF6LucN67iK9IcW43awmyHZ1-NHvWJ",
      "authorship_tag": "ABX9TyNZkSp9ctYNC7gszjkdowa0",
      "include_colab_link": true
    },
    "kernelspec": {
      "name": "python3",
      "display_name": "Python 3"
    },
    "language_info": {
      "name": "python"
    }
  },
  "cells": [
    {
      "cell_type": "markdown",
      "metadata": {
        "id": "view-in-github",
        "colab_type": "text"
      },
      "source": [
        "<a href=\"https://colab.research.google.com/github/gabriellyLP01/Desafio_roteiroPratico1/blob/main/Desafio_roteiroPratico1.ipynb\" target=\"_parent\"><img src=\"https://colab.research.google.com/assets/colab-badge.svg\" alt=\"Open In Colab\"/></a>"
      ]
    },
    {
      "cell_type": "markdown",
      "source": [
        "#Roteiros de práticas 1 - repositórios e projetos"
      ],
      "metadata": {
        "id": "RQSkzn3ALV-n"
      }
    },
    {
      "cell_type": "markdown",
      "source": [
        "\n",
        "##Criação da Função openLog (Versão Inicial)"
      ],
      "metadata": {
        "id": "44FnJ9n9MKQ0"
      }
    },
    {
      "cell_type": "code",
      "execution_count": null,
      "metadata": {
        "id": "ar38CHF4K6h_"
      },
      "outputs": [],
      "source": [
        "def openLog(nomearq, modo):\n",
        "  arqEntrada = open(nomearq, modo)\n",
        "  return arqEntrada"
      ]
    },
    {
      "cell_type": "markdown",
      "source": [
        "##Implementação do Registro do Nome do Arquivo"
      ],
      "metadata": {
        "id": "cmWhFVBnMEgy"
      }
    },
    {
      "cell_type": "code",
      "source": [
        "def openLog(nomearq, modo):\n",
        "  arqEntrada = open(nomearq, modo)\n",
        "\n",
        "  #Abre arquivo tst.txt no modo de acréscimo e acrescenta log\n",
        "  arqSaída = open('tst.txt', 'a')\n",
        "  arqSaída.write('Arquivo {} aberto. \\n'.format(nomearq))\n",
        "  arqSaída.close()\n",
        "\n",
        "  return arqEntrada"
      ],
      "metadata": {
        "id": "VpOmf6QXMTni"
      },
      "execution_count": null,
      "outputs": []
    },
    {
      "cell_type": "markdown",
      "source": [
        "##Implementação do Registro da Data e Hora do Acesso"
      ],
      "metadata": {
        "id": "j6qYyAj4NdvN"
      }
    },
    {
      "cell_type": "code",
      "source": [
        "import time\n",
        "\n",
        "def openLog(nomearq, modo = 'r'):\n",
        "    ''' abre arquivo nomearq em certo modo e retorna referência ao arquivo aberto; registra o acesso ao arquivo em log.txt'''\n",
        "    arqEntrada = open(nomearq, modo)\n",
        "\n",
        "    #obtém hora atual\n",
        "    now = time.localtime()\n",
        "    nowFormat = time.strftime('#A %b/%d/%y %I:%M %p', now)\n",
        "\n",
        "    #abre arquivo log.txt no modo de acréscimo e acrescenta log\n",
        "    arqSaída = open('log.txt', 'a')\n",
        "    log = '{}: Arquivo {} aberto.\\n'    #formata string\n",
        "    arqSaída.write(log.format(nowFormat, nomearq))\n",
        "    arqSaída.close()\n",
        "\n",
        "    print('Registro realizado')\n",
        "\n",
        "    return open(nomearq, modo)\n",
        "\n",
        "\n"
      ],
      "metadata": {
        "id": "fM-x1pGrNf42"
      },
      "execution_count": null,
      "outputs": []
    },
    {
      "cell_type": "code",
      "source": [
        "  #Para testar\n",
        "\n",
        "openLog('/content/drive/MyDrive/Colab Notebooks/Linguagem de programação/tst.txt')"
      ],
      "metadata": {
        "colab": {
          "base_uri": "https://localhost:8080/"
        },
        "id": "sX6gEjMuz4Cy",
        "outputId": "a251f494-9ac0-411b-a6d9-cbdcee6f8352"
      },
      "execution_count": null,
      "outputs": [
        {
          "output_type": "stream",
          "name": "stdout",
          "text": [
            "Registro realizado\n"
          ]
        },
        {
          "output_type": "execute_result",
          "data": {
            "text/plain": [
              "<_io.TextIOWrapper name='/content/drive/MyDrive/Colab Notebooks/Linguagem de programação/tst.txt' mode='r' encoding='utf-8'>"
            ]
          },
          "metadata": {},
          "execution_count": 16
        }
      ]
    }
  ]
}